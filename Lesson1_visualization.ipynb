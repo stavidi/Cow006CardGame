{
  "nbformat": 4,
  "nbformat_minor": 0,
  "metadata": {
    "colab": {
      "name": "Lesson1_visualization.ipynb",
      "provenance": [],
      "collapsed_sections": [],
      "toc_visible": true,
      "authorship_tag": "ABX9TyP40WBk6M0Ym2Vp2C7LxQbs",
      "include_colab_link": true
    },
    "kernelspec": {
      "name": "python3",
      "display_name": "Python 3"
    }
  },
  "cells": [
    {
      "cell_type": "markdown",
      "metadata": {
        "id": "view-in-github",
        "colab_type": "text"
      },
      "source": [
        "<a href=\"https://colab.research.google.com/github/tatyderb/Cow006CardGame/blob/master/Lesson1_visualization.ipynb\" target=\"_parent\"><img src=\"https://colab.research.google.com/assets/colab-badge.svg\" alt=\"Open In Colab\"/></a>"
      ]
    },
    {
      "cell_type": "code",
      "metadata": {
        "id": "ZaXwoNHFDFj5",
        "colab_type": "code",
        "colab": {}
      },
      "source": [
        ""
      ],
      "execution_count": null,
      "outputs": []
    },
    {
      "cell_type": "markdown",
      "metadata": {
        "id": "39LQHlGEGHmE",
        "colab_type": "text"
      },
      "source": [
        ""
      ]
    },
    {
      "cell_type": "markdown",
      "metadata": {
        "id": "jFM9t2eCD8AL",
        "colab_type": "text"
      },
      "source": [
        "# Полезные ссылки\n",
        "\n",
        "* "
      ]
    },
    {
      "cell_type": "markdown",
      "metadata": {
        "id": "giAc2Vu_SNas",
        "colab_type": "text"
      },
      "source": [
        "# Первый график Популяция от численности."
      ]
    },
    {
      "cell_type": "markdown",
      "metadata": {
        "id": "D-yc3z8fSKU4",
        "colab_type": "text"
      },
      "source": [
        ""
      ]
    },
    {
      "cell_type": "code",
      "metadata": {
        "id": "z_2AEmN1Efpf",
        "colab_type": "code",
        "colab": {
          "base_uri": "https://localhost:8080/",
          "height": 282
        },
        "outputId": "38041ab7-c000-4070-d7cf-65a5350a9d54"
      },
      "source": [
        "import matplotlib.pyplot as plt\n",
        "\n",
        "year = [1950, 1970, 1990, 2010]     # year       \n",
        "pop = [2.519, 3.692, 5.263, 6.972]  # population, billions \n",
        "\n",
        "plt.plot(year, pop)"
      ],
      "execution_count": null,
      "outputs": [
        {
          "output_type": "execute_result",
          "data": {
            "text/plain": [
              "[<matplotlib.lines.Line2D at 0x7f9752d26940>]"
            ]
          },
          "metadata": {
            "tags": []
          },
          "execution_count": 8
        },
        {
          "output_type": "display_data",
          "data": {
            "image/png": "[encoded data removed]",
            "text/plain": [
              "<Figure size 432x288 with 1 Axes>"
            ]
          },
          "metadata": {
            "tags": [],
            "needs_background": "light"
          }
        }
      ]
    },
    {
      "cell_type": "markdown",
      "metadata": {
        "id": "Yb-6QYIzLxHy",
        "colab_type": "text"
      },
      "source": [
        "Вопрос: Как вы думаете, к какому году на Земле будет 10 миллиардов человек, если население будет так же расти?\n",
        "\n",
        "Ответ: "
      ]
    },
    {
      "cell_type": "markdown",
      "metadata": {
        "id": "aZOlMSntHCFr",
        "colab_type": "text"
      },
      "source": [
        "# График точками"
      ]
    },
    {
      "cell_type": "markdown",
      "metadata": {
        "id": "9sYVHqdfHiSi",
        "colab_type": "text"
      },
      "source": [
        "Мы уже один раз сказали \n",
        "\n",
        "```\n",
        "import matplotlib.pyplot as plt\n",
        "```\n",
        "Это действует до конца файла.\n",
        "\n",
        "Если работать тут, то не надо писать.\n",
        "\n",
        "```\n",
        "plt.show()\n",
        "```\n",
        "Пример графика точками:\n",
        "\n"
      ]
    },
    {
      "cell_type": "code",
      "metadata": {
        "id": "s19_Yi2WHGSK",
        "colab_type": "code",
        "colab": {
          "base_uri": "https://localhost:8080/",
          "height": 282
        },
        "outputId": "32bacc25-3040-4af1-910c-1d896f614069"
      },
      "source": [
        "year = [1950, 1970, 1990, 2010]     # year       \n",
        "pop = [2.519, 3.692, 5.263, 6.972]  # population, billions \n",
        "\n",
        "plt.scatter(year, pop)"
      ],
      "execution_count": null,
      "outputs": [
        {
          "output_type": "execute_result",
          "data": {
            "text/plain": [
              "<matplotlib.collections.PathCollection at 0x7f9752f1feb8>"
            ]
          },
          "metadata": {
            "tags": []
          },
          "execution_count": 3
        },
        {
          "output_type": "display_data",
          "data": {
            "image/png": "[encoded data removed]",
            "text/plain": [
              "<Figure size 432x288 with 1 Axes>"
            ]
          },
          "metadata": {
            "tags": [],
            "needs_background": "light"
          }
        }
      ]
    },
    {
      "cell_type": "code",
      "metadata": {
        "id": "OQrUQBcsHR9b",
        "colab_type": "code",
        "colab": {}
      },
      "source": [
        ""
      ],
      "execution_count": null,
      "outputs": []
    },
    {
      "cell_type": "markdown",
      "metadata": {
        "id": "XmR4R70JGxtx",
        "colab_type": "text"
      },
      "source": [
        "# Как это работает?"
      ]
    },
    {
      "cell_type": "markdown",
      "metadata": {
        "id": "7SzrkM-OOoBM",
        "colab_type": "text"
      },
      "source": [
        "Строятся точки $(x_0, y_0), (x_1, y_1) .. (x_n, y_n)$  и соединяются линиями в функции plot()"
      ]
    },
    {
      "cell_type": "code",
      "metadata": {
        "id": "yumBOcd0Od_h",
        "colab_type": "code",
        "colab": {}
      },
      "source": [
        ""
      ],
      "execution_count": null,
      "outputs": []
    }
  ]
}